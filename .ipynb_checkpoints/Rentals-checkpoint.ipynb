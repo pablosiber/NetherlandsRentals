{
 "cells": [
  {
   "cell_type": "code",
   "execution_count": 19,
   "metadata": {
    "collapsed": false
   },
   "outputs": [],
   "source": [
    "%matplotlib inline\n",
    "import pandas as pd\n",
    "import numpy as np\n"
   ]
  },
  {
   "cell_type": "code",
   "execution_count": 33,
   "metadata": {
    "collapsed": false
   },
   "outputs": [],
   "source": [
    "data = pd.read_csv('output.csv_clean',keep_default_na=False,names=['Barrio','Precio','Metros','Amoblado'])"
   ]
  },
  {
   "cell_type": "code",
   "execution_count": 34,
   "metadata": {
    "collapsed": false
   },
   "outputs": [],
   "source": [
    "data = data[data['Metros']<200]\n",
    "data['Ratio']=data['Precio']/data['Metros']"
   ]
  },
  {
   "cell_type": "code",
   "execution_count": 35,
   "metadata": {
    "collapsed": false
   },
   "outputs": [
    {
     "data": {
      "text/html": [
       "<div style=\"max-height:1000px;max-width:1500px;overflow:auto;\">\n",
       "<table border=\"1\" class=\"dataframe\">\n",
       "  <thead>\n",
       "    <tr style=\"text-align: right;\">\n",
       "      <th></th>\n",
       "      <th>Precio</th>\n",
       "      <th>Metros</th>\n",
       "      <th>Ratio</th>\n",
       "    </tr>\n",
       "    <tr>\n",
       "      <th>Barrio</th>\n",
       "      <th></th>\n",
       "      <th></th>\n",
       "      <th></th>\n",
       "    </tr>\n",
       "  </thead>\n",
       "  <tbody>\n",
       "    <tr>\n",
       "      <th>Haarlem-Oost</th>\n",
       "      <td> 1141.000000</td>\n",
       "      <td> 106.000000</td>\n",
       "      <td> 10.874094</td>\n",
       "    </tr>\n",
       "    <tr>\n",
       "      <th>Stadsdeel Nieuw-West</th>\n",
       "      <td> 1522.727273</td>\n",
       "      <td>  93.818182</td>\n",
       "      <td> 16.339818</td>\n",
       "    </tr>\n",
       "    <tr>\n",
       "      <th>Stadsdeel Oost</th>\n",
       "      <td> 1666.139241</td>\n",
       "      <td> 101.329114</td>\n",
       "      <td> 16.819889</td>\n",
       "    </tr>\n",
       "    <tr>\n",
       "      <th>Stadsdeel Noord</th>\n",
       "      <td> 1325.000000</td>\n",
       "      <td>  75.000000</td>\n",
       "      <td> 17.666667</td>\n",
       "    </tr>\n",
       "    <tr>\n",
       "      <th>Stadsdeel Zuid</th>\n",
       "      <td> 2192.535211</td>\n",
       "      <td> 104.246479</td>\n",
       "      <td> 21.648156</td>\n",
       "    </tr>\n",
       "    <tr>\n",
       "      <th>Stadsdeel West</th>\n",
       "      <td> 1921.549296</td>\n",
       "      <td>  90.056338</td>\n",
       "      <td> 21.695651</td>\n",
       "    </tr>\n",
       "    <tr>\n",
       "      <th></th>\n",
       "      <td> 1423.333333</td>\n",
       "      <td>  65.000000</td>\n",
       "      <td> 22.443210</td>\n",
       "    </tr>\n",
       "    <tr>\n",
       "      <th>Amstelveen</th>\n",
       "      <td> 2375.000000</td>\n",
       "      <td> 110.000000</td>\n",
       "      <td> 22.794118</td>\n",
       "    </tr>\n",
       "    <tr>\n",
       "      <th>Stadsdeel Centrum</th>\n",
       "      <td> 2192.689956</td>\n",
       "      <td>  93.017467</td>\n",
       "      <td> 24.284578</td>\n",
       "    </tr>\n",
       "  </tbody>\n",
       "</table>\n",
       "</div>"
      ],
      "text/plain": [
       "                           Precio      Metros      Ratio\n",
       "Barrio                                                  \n",
       "Haarlem-Oost          1141.000000  106.000000  10.874094\n",
       "Stadsdeel Nieuw-West  1522.727273   93.818182  16.339818\n",
       "Stadsdeel Oost        1666.139241  101.329114  16.819889\n",
       "Stadsdeel Noord       1325.000000   75.000000  17.666667\n",
       "Stadsdeel Zuid        2192.535211  104.246479  21.648156\n",
       "Stadsdeel West        1921.549296   90.056338  21.695651\n",
       "                      1423.333333   65.000000  22.443210\n",
       "Amstelveen            2375.000000  110.000000  22.794118\n",
       "Stadsdeel Centrum     2192.689956   93.017467  24.284578"
      ]
     },
     "execution_count": 35,
     "metadata": {},
     "output_type": "execute_result"
    }
   ],
   "source": [
    "data.groupby('Barrio').mean().sort(columns='Ratio')"
   ]
  },
  {
   "cell_type": "code",
   "execution_count": 36,
   "metadata": {
    "collapsed": false
   },
   "outputs": [],
   "source": [
    "resumen = data.groupby(['Furnished']).mean()"
   ]
  },
  {
   "cell_type": "code",
   "execution_count": 31,
   "metadata": {
    "collapsed": false
   },
   "outputs": [
    {
     "data": {
      "image/png": "[encoded data removed]",
      "text/plain": [
       "<matplotlib.figure.Figure at 0x7fc7409e5c90>"
      ]
     },
     "metadata": {},
     "output_type": "display_data"
    }
   ],
   "source": [
    "a = resumen.plot(x='Metros',y='Precio',kind='scatter')"
   ]
  },
  {
   "cell_type": "code",
   "execution_count": 37,
   "metadata": {
    "collapsed": false
   },
   "outputs": [
    {
     "data": {
      "text/html": [
       "<div style=\"max-height:1000px;max-width:1500px;overflow:auto;\">\n",
       "<table border=\"1\" class=\"dataframe\">\n",
       "  <thead>\n",
       "    <tr style=\"text-align: right;\">\n",
       "      <th></th>\n",
       "      <th>Precio</th>\n",
       "      <th>Metros</th>\n",
       "      <th>Ratio</th>\n",
       "    </tr>\n",
       "    <tr>\n",
       "      <th>Furnished</th>\n",
       "      <th></th>\n",
       "      <th></th>\n",
       "      <th></th>\n",
       "    </tr>\n",
       "  </thead>\n",
       "  <tbody>\n",
       "    <tr>\n",
       "      <th>Furnished</th>\n",
       "      <td> 2057.171745</td>\n",
       "      <td>  92.290859</td>\n",
       "      <td> 23.005181</td>\n",
       "    </tr>\n",
       "    <tr>\n",
       "      <th>Shell</th>\n",
       "      <td> 1313.775862</td>\n",
       "      <td>  92.758621</td>\n",
       "      <td> 14.744808</td>\n",
       "    </tr>\n",
       "    <tr>\n",
       "      <th>Unfurnished</th>\n",
       "      <td> 2246.413043</td>\n",
       "      <td> 107.572464</td>\n",
       "      <td> 21.381951</td>\n",
       "    </tr>\n",
       "    <tr>\n",
       "      <th>Unknown</th>\n",
       "      <td> 2231.250000</td>\n",
       "      <td> 122.500000</td>\n",
       "      <td> 17.931150</td>\n",
       "    </tr>\n",
       "  </tbody>\n",
       "</table>\n",
       "</div>"
      ],
      "text/plain": [
       "                  Precio      Metros      Ratio\n",
       "Furnished                                      \n",
       "Furnished    2057.171745   92.290859  23.005181\n",
       "Shell        1313.775862   92.758621  14.744808\n",
       "Unfurnished  2246.413043  107.572464  21.381951\n",
       "Unknown      2231.250000  122.500000  17.931150"
      ]
     },
     "execution_count": 37,
     "metadata": {},
     "output_type": "execute_result"
    }
   ],
   "source": [
    "data.groupby(['Furnished']).mean()"
   ]
  },
  {
   "cell_type": "code",
   "execution_count": null,
   "metadata": {
    "collapsed": true
   },
   "outputs": [],
   "source": []
  },
  {
   "cell_type": "code",
   "execution_count": null,
   "metadata": {
    "collapsed": true
   },
   "outputs": [],
   "source": []
  }
 ],
 "metadata": {
  "kernelspec": {
   "display_name": "Python 2",
   "language": "python",
   "name": "python2"
  },
  "language_info": {
   "codemirror_mode": {
    "name": "ipython",
    "version": 2
   },
   "file_extension": ".py",
   "mimetype": "text/x-python",
   "name": "python",
   "nbconvert_exporter": "python",
   "pygments_lexer": "ipython2",
   "version": "2.7.9"
  }
 },
 "nbformat": 4,
 "nbformat_minor": 0
}
